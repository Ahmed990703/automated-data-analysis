{
 "cells": [
  {
   "cell_type": "code",
   "execution_count": 2,
   "id": "79db70f8",
   "metadata": {},
   "outputs": [
    {
     "ename": "SyntaxError",
     "evalue": "invalid syntax (2667431722.py, line 9)",
     "output_type": "error",
     "traceback": [
      "\u001b[0;36m  Cell \u001b[0;32mIn[2], line 9\u001b[0;36m\u001b[0m\n\u001b[0;31m    global df=pd.read_csv(path)\u001b[0m\n\u001b[0m             ^\u001b[0m\n\u001b[0;31mSyntaxError\u001b[0m\u001b[0;31m:\u001b[0m invalid syntax\n"
     ]
    }
   ],
   "source": [
    "import numpy as np\n",
    "import pandas as pd\n",
    "import matplotlib.pyplot as plt \n",
    "import seaborn as sns\n",
    "from sklearn.preprocessing import LabelEncoder, StandardScaler\n",
    "from sqlalchemy import create_engine\n",
    "def automated_analysis():\n",
    "    path=input('write your file path here :    ')\n",
    "    global df=pd.read_csv(path)\n",
    "    print('Data frame :')\n",
    "    df = df.dropna()\n",
    "    print(df)\n",
    "    print('\\nData types :')\n",
    "    print(df.dtypes)\n",
    "    print('\\n Statisical measurments :')\n",
    "    print(df.describe())\n",
    "    numerical_cols = df.select_dtypes(include=['int', 'float']).columns\n",
    "    categorical_cols = df.select_dtypes(include=['object']).columns\n",
    "    le = LabelEncoder()\n",
    "    for col in categorical_cols:\n",
    "        df[col] = le.fit_transform(df[col])\n",
    "    scaler = StandardScaler()\n",
    "    df[numerical_cols] = scaler.fit_transform(df[numerical_cols])\n",
    "    for col in numerical_cols:\n",
    "        plt.figure(figsize=(12, 6))\n",
    "        plt.subplot(1, 2, 1)\n",
    "        sns.histplot(df[col], kde=True)\n",
    "        plt.title(f'Histogram of {col}')\n",
    "        plt.subplot(1, 2, 2)\n",
    "        sns.boxplot(x=df[col])\n",
    "        plt.title(f'Boxplot of {col}')\n",
    "        plt.show()\n",
    "    for col in categorical_cols:\n",
    "        plt.figure(figsize=(12, 6))\n",
    "        plt.subplot(1, 2, 1)\n",
    "        df[col].value_counts().plot.pie(autopct='%1.1f%%')\n",
    "        plt.title(f'Pie Chart of {col}')\n",
    "        plt.subplot(1, 2, 2)\n",
    "        sns.countplot(x=df[col])\n",
    "        plt.title(f'Countplot of {col}')\n",
    "        plt.show()\n"
   ]
  },
  {
   "cell_type": "code",
   "execution_count": null,
   "id": "4da400e5",
   "metadata": {},
   "outputs": [],
   "source": [
    "automated_analysis()"
   ]
  },
  {
   "cell_type": "code",
   "execution_count": null,
   "id": "56fda66e",
   "metadata": {},
   "outputs": [],
   "source": [
    "df."
   ]
  },
  {
   "cell_type": "code",
   "execution_count": null,
   "id": "60aa78cb",
   "metadata": {},
   "outputs": [],
   "source": []
  },
  {
   "cell_type": "code",
   "execution_count": null,
   "id": "a87c6903",
   "metadata": {},
   "outputs": [],
   "source": []
  }
 ],
 "metadata": {
  "kernelspec": {
   "display_name": "Python 3 (ipykernel)",
   "language": "python",
   "name": "python3"
  },
  "language_info": {
   "codemirror_mode": {
    "name": "ipython",
    "version": 3
   },
   "file_extension": ".py",
   "mimetype": "text/x-python",
   "name": "python",
   "nbconvert_exporter": "python",
   "pygments_lexer": "ipython3",
   "version": "3.11.4"
  }
 },
 "nbformat": 4,
 "nbformat_minor": 5
}
